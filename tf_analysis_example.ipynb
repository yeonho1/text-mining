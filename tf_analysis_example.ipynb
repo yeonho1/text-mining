{
 "cells": [
  {
   "metadata": {
    "ExecuteTime": {
     "end_time": "2025-05-25T05:44:53.896914Z",
     "start_time": "2025-05-25T05:44:53.788773Z"
    }
   },
   "cell_type": "code",
   "source": [
    "# Importing libraries or functions required to perform the task\n",
    "\n",
    "from core import Article\n",
    "from core import Sentence"
   ],
   "id": "fbc121e30a2defb3",
   "outputs": [],
   "execution_count": 1
  },
  {
   "metadata": {
    "ExecuteTime": {
     "end_time": "2025-05-25T08:11:52.548493Z",
     "start_time": "2025-05-25T08:11:52.537356Z"
    }
   },
   "cell_type": "code",
   "source": [
    "# Opening a sample CNN news article\n",
    "\n",
    "BASENAME = 'CNN-south-korea-impeachment-vote-acting-president-intl-hnk'\n",
    "\n",
    "with open(f'data/{BASENAME}.txt') as f:\n",
    "    text = f.read()"
   ],
   "id": "31ba623aab275c6e",
   "outputs": [],
   "execution_count": 8
  },
  {
   "metadata": {
    "ExecuteTime": {
     "end_time": "2025-05-25T08:11:54.634659Z",
     "start_time": "2025-05-25T08:11:54.584119Z"
    }
   },
   "cell_type": "code",
   "source": [
    "# Preprocessing the text\n",
    "\n",
    "article = Article(BASENAME, text)\n",
    "\n",
    "article"
   ],
   "id": "ff6814fda91049ad",
   "outputs": [
    {
     "name": "stdout",
     "output_type": "stream",
     "text": [
      "NNP NN VBD TO VB NN CC JJ NNP NNP IN NNP , JJR IN CD NNS IN NN VBD NNP NNP NNP NNP IN PRP$ NNS IN PRP$ JJ NN NN WDT VBD DT NN IN JJ NN .\n",
      "DT NN IN CD NNS VBD TO VB NNP , JJR IN DT CD NNS VBN IN DT JJ NN .\n",
      "JJ NNS VBN IN NN IN DT NN , IN NNS IN DT VBG NNP VBD PRP$ NNS CC VBD `` NNP IN NN '' IN NNP NNP NN NNP NNP VBD RB DT JJ NN MD VB VBN TO VB DT JJ NN IN NNP .\n",
      "DT JJ NN VBZ DT JJ NN VBN TO VB DT NN NN , IN DT JJ NN VBZ VBN TO VB DT NN .\n",
      "NNP NN WP VBD DT NN IN NN VBD TO VB NNP NNP VBD IN DT NN PRP VBD DT NN CC `` MD VB PRP$ NNS IN JJ NNS TO VB JJ NN CC NN . ''\n",
      "VBG JJ NN TO VB NNP , DT NN NN CC NN NN , NNP NNP , VBZ RB JJ .\n",
      "NNP JJ NN NNP VBD DT NN NN IN NNP IN NNP VBD TO VB CD JJ NNS IN DT NNP , WDT VBZ VBN TO VB NNP JJ NN .\n",
      "NNP IN NNP VBD PRP$ NN RB TO VB JJ NNS , VBG DT NN CC NN NNS TO VB VB DT NN IN NNS MD VB VBN .\n",
      "`` PRP RB VB WRB JJ CC VBD DT NNS VBP VBN IN DT NN NN , '' NNP VBD , VBG IN `` DT NN VBZ RB JJ IN VBG DT JJ NN NNS . ''\n",
      "NNP NN VBZ IN DT NN VBZ VBN VBN IN NNS IN JJ NN CC NN VBG NNP NN NN IN NNP CD , WDT VBD RB CD NNS CC JJ NN NNS .\n",
      "NNS , VBG IN JJS DT NN NN NNS , VBD TO VB RB CD NNS RB IN PRP RB VBD TO VB RP .\n",
      "DT NNP VBZ RP TO CD NNS TO VB IN TO VB CC VB DT JJ NN\n",
      "PRP VBZ VBN TO VB DT NN IN DT `` JJ NN , '' IN JJ JJ NNS DT NN VBZ VBN IN IN NNS IN NNP NN , VBG DT NN NN , NNS CC JJ JJ NNS .\n",
      "DT JJ NN , RB , RB RB VBZ CD NNS , JJ TO DT NN IN VBG NNS VBN IN JJ NNS , RB VBG NNS .\n",
      "IN JJ JJ NN , IN JJS CD IN IN CD NNS MD VB DT NN IN PRP TO VB JJ .\n",
      "DT NN VBZ RB RB VBD IN DT CD VBG NNS RB MD VB IN NN NN\n",
      "CC IN PRP VBP JJ TO , DT CD MD VB TO VB IN NN IN DT NN TO RB VB NNP .\n",
      "`` DT NN VBZ VBN IN DT VBG NN NN , '' '' JJ JJ NN NN NNP NNP VBD IN DT NN NN NNP , VBG DT NN VBD `` VBN PRP$ NN TO VB DT NN , '' CC VBZ RB NNP `` JJ NN . ''\n",
      "NNP NN VBD DT NN IN DT NNP IN NNP NN , IN NN NN NNP NNP VBG DT NN `` JJ CC NN . ''\n",
      "DT NN TO VB NNP VBZ DT JJ NN IN DT NNP VBZ PRP$ JJ JJ NN IN NNP JJ NN , VBG DT NN TO VB IN PRP MD VB VBN IN NN RB\n",
      "NN VBZ RB VBN TO VB DT NN .\n",
      "IN DT NNP JJ NNP NN , PRP MD VB DT JJ NN IN NNP JJ NN\n",
      "DT NN MD RB VB JJ JJ NNS IN CD NNS .\n",
      "RB , DT JJ NN VBZ VBN VBN IN VBG DT NN CC VBZ VBG DT NN IN NNS , VBG JJ NNS IN VBG DT NN VBZ DT NN NN IN NN NN CC RB DT NN NN .\n"
     ]
    },
    {
     "data": {
      "text/plain": [
       "<Article `CNN-south-korea-impeachment-vote-acting-president-intl-hnk`>"
      ]
     },
     "execution_count": 9,
     "metadata": {},
     "output_type": "execute_result"
    }
   ],
   "execution_count": 9
  },
  {
   "metadata": {
    "ExecuteTime": {
     "end_time": "2025-05-25T08:11:56.939373Z",
     "start_time": "2025-05-25T08:11:56.934998Z"
    }
   },
   "cell_type": "code",
   "source": [
    "# Count the words\n",
    "\n",
    "noun_count = {}\n",
    "verb_count = {}\n",
    "adj_count = {}\n",
    "\n",
    "for sentence in article.sentences:\n",
    "    for token, tag in sentence.tokens:\n",
    "        if tag in ['N', 'PN']:\n",
    "            noun_count[token] = noun_count.get(token, 0) + 1\n",
    "        elif tag == 'V':\n",
    "            verb_count[token] = verb_count.get(token, 0) + 1\n",
    "        elif tag == 'A':\n",
    "            adj_count[token] = adj_count.get(token, 0) + 1"
   ],
   "id": "7a116e8a5aa98e3e",
   "outputs": [],
   "execution_count": 10
  },
  {
   "metadata": {
    "ExecuteTime": {
     "end_time": "2025-05-25T08:11:57.996036Z",
     "start_time": "2025-05-25T08:11:57.991456Z"
    }
   },
   "cell_type": "code",
   "source": [
    "# Check the top 10 words\n",
    "\n",
    "noun_rankings = sorted(noun_count.items(), key=lambda x: x[1], reverse=True)\n",
    "verb_rankings = sorted(verb_count.items(), key=lambda x: x[1], reverse=True)\n",
    "adj_rankings = sorted(adj_count.items(), key=lambda x: x[1], reverse=True)"
   ],
   "id": "5fee94e2d4797d7d",
   "outputs": [],
   "execution_count": 11
  },
  {
   "metadata": {
    "ExecuteTime": {
     "end_time": "2025-05-25T08:12:04.678526Z",
     "start_time": "2025-05-25T08:12:04.672921Z"
    }
   },
   "cell_type": "code",
   "source": "noun_rankings",
   "id": "db6cf1c3432c631d",
   "outputs": [
    {
     "data": {
      "text/plain": [
       "[('vote', 6),\n",
       " ('justice', 6),\n",
       " ('impeachment', 5),\n",
       " ('Constitutional Court', 5),\n",
       " ('parliament', 4),\n",
       " ('opposition', 4),\n",
       " ('prime minister', 3),\n",
       " ('martial law', 3),\n",
       " ('lawmaker', 3),\n",
       " ('majority', 3),\n",
       " ('ruling party', 3),\n",
       " ('leader', 3),\n",
       " ('power', 2),\n",
       " ('motion', 2),\n",
       " ('president', 2),\n",
       " ('duty', 2),\n",
       " ('law', 2),\n",
       " ('uncertainty', 2),\n",
       " ('minister', 2),\n",
       " ('trial', 2),\n",
       " ('process', 2),\n",
       " ('member', 2),\n",
       " ('case', 2),\n",
       " ('prosecutor', 2),\n",
       " ('court', 2),\n",
       " ('insurrection', 2),\n",
       " ('day', 2),\n",
       " ('order', 1),\n",
       " ('disarray', 1),\n",
       " ('total', 1),\n",
       " ('legislature', 1),\n",
       " ('scene', 1),\n",
       " ('fist', 1),\n",
       " ('National Assembly', 1),\n",
       " ('speaker', 1),\n",
       " ('threshold', 1),\n",
       " ('sitting', 1),\n",
       " ('role', 1),\n",
       " ('statement', 1),\n",
       " ('decision', 1),\n",
       " ('confusion', 1),\n",
       " ('finance', 1),\n",
       " ('deputy', 1),\n",
       " ('seat', 1),\n",
       " ('choice', 1),\n",
       " ('ruling', 1),\n",
       " ('party', 1),\n",
       " ('agreement', 1),\n",
       " ('appointment', 1),\n",
       " ('people', 1),\n",
       " ('emergency', 1),\n",
       " ('judge', 1),\n",
       " ('position', 1),\n",
       " ('turmoil', 1),\n",
       " ('decree', 1),\n",
       " ('hour', 1),\n",
       " ('mass', 1),\n",
       " ('protest', 1),\n",
       " ('dozen', 1),\n",
       " ('month', 1),\n",
       " ('priority', 1),\n",
       " ('administration', 1),\n",
       " ('official', 1),\n",
       " ('delay', 1),\n",
       " ('vacancy', 1),\n",
       " ('matter', 1),\n",
       " ('fate', 1),\n",
       " ('support', 1),\n",
       " ('acting president', 1),\n",
       " ('press', 1),\n",
       " ('conference', 1),\n",
       " ('constitution', 1),\n",
       " ('guard', 1),\n",
       " ('dispute', 1),\n",
       " ('floor', 1),\n",
       " ('result', 1),\n",
       " ('void', 1),\n",
       " ('hearing', 1),\n",
       " ('office', 1),\n",
       " ('meeting', 1),\n",
       " ('history', 1),\n",
       " ('election', 1),\n",
       " ('string', 1),\n",
       " ('investigation', 1),\n",
       " ('charge', 1),\n",
       " ('crime', 1),\n",
       " ('punishable', 1),\n",
       " ('life', 1),\n",
       " ('imprisonment', 1),\n",
       " ('death', 1),\n",
       " ('penalty', 1)]"
      ]
     },
     "execution_count": 13,
     "metadata": {},
     "output_type": "execute_result"
    }
   ],
   "execution_count": 13
  },
  {
   "metadata": {
    "ExecuteTime": {
     "end_time": "2025-05-25T05:45:05.071146Z",
     "start_time": "2025-05-25T05:45:05.065973Z"
    }
   },
   "cell_type": "code",
   "source": "article.find('political')",
   "id": "6a9163a8f8d35f88",
   "outputs": [
    {
     "data": {
      "text/plain": [
       "[(6,\n",
       "  <Sentence: \"However, focusing solely on the political consequences of Yoon’s actions risks overlooking a vital question: Why did Yoon feel compelled to take this extreme step in the first place\">),\n",
       " (17,\n",
       "  <Sentence: \"The political context reveals additional factors that may have influenced his decision.\">),\n",
       " (18,\n",
       "  <Sentence: \"In the months prior, his administration faced months of escalating political gridlock against an opposition-controlled National Assembly\">),\n",
       " (23,\n",
       "  <Sentence: \"Critics, however, argued that “such complaints cannot be grounds for declaring martial law” and raised questions about whether the decision was driven by political pressures rather than legitimate security concerns\">),\n",
       " (26,\n",
       "  <Sentence: \"Was this an act of desperation driven by political gridlock, or did he genuinely perceive a national security threat that justified such extreme measures\">),\n",
       " (27,\n",
       "  <Sentence: \"Whether an act of desperation or a calculated maneuver, Yoon’s declaration of martial law underscores the deep fractures in South Korea’s polarized political landscape\">),\n",
       " (29,\n",
       "  <Sentence: \"Amid this political turmoil, then acting President Han Duck-soo delivered an address urging politicians to set aside differences for the nation’s well-being\">),\n",
       " (34,\n",
       "  <Sentence: \"In moments of crisis, such as a declaration of martial law, the interplay between democratic principles and political actions becomes especially essential\">),\n",
       " (35,\n",
       "  <Sentence: \"If deeper flaws in South Korea’s political and constitutional frameworks contributed to Yoon’s decisions, merely removing him from office will not prevent future crises\">),\n",
       " (49,\n",
       "  <Sentence: \"While this would enhance accountability, maintaining the body’s independence from political influence would require stringent safeguards\">)]"
      ]
     },
     "execution_count": 7,
     "metadata": {},
     "output_type": "execute_result"
    }
   ],
   "execution_count": 7
  },
  {
   "metadata": {},
   "cell_type": "code",
   "source": "",
   "id": "a6828c2b9e568482",
   "outputs": [],
   "execution_count": null
  }
 ],
 "metadata": {
  "kernelspec": {
   "display_name": "Python 3",
   "language": "python",
   "name": "python3"
  },
  "language_info": {
   "codemirror_mode": {
    "name": "ipython",
    "version": 2
   },
   "file_extension": ".py",
   "mimetype": "text/x-python",
   "name": "python",
   "nbconvert_exporter": "python",
   "pygments_lexer": "ipython2",
   "version": "2.7.6"
  }
 },
 "nbformat": 4,
 "nbformat_minor": 5
}
